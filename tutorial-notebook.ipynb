{
 "cells": [
  {
   "cell_type": "markdown",
   "metadata": {},
   "source": [
    "# My First Notebook"
   ]
  },
  {
   "cell_type": "code",
   "execution_count": null,
   "metadata": {},
   "outputs": [],
   "source": [
    "print(\"Hello World!\")"
   ]
  },
  {
   "cell_type": "markdown",
   "metadata": {},
   "source": [
    "<h1 style=\"font-size=3rem;color:orange;\">We did this using HTML</h1>"
   ]
  },
  {
   "cell_type": "markdown",
   "metadata": {},
   "source": [
    "<img src=\"sample.jpg\">"
   ]
  },
  {
   "cell_type": "markdown",
   "metadata": {},
   "source": [
    "## Basic Output"
   ]
  },
  {
   "cell_type": "markdown",
   "metadata": {},
   "source": [
    "<h1> Shortcuts </h1>\n",
    "<ul>\n",
    "<li>A - Add cell above</li>\n",
    "<li>B - Add cell below</li>\n",
    "<li>M - switch cell type to Markdown</li>\n",
    "<li>Y - switch cell type to code</li>\n",
    "<li>Ctrl + Enter - Run currently selected cell</li>\n",
    "<li>dd - delete selected cell</li>\n",
    "</ul>"
   ]
  },
  {
   "cell_type": "code",
   "execution_count": 3,
   "metadata": {},
   "outputs": [
    {
     "name": "stdout",
     "output_type": "stream",
     "text": [
      "Enter your name on the input box shown on top. Weird, right?\n",
      "Hello, Francis!\n"
     ]
    }
   ],
   "source": [
    "print(\"Enter your name on the input box shown on top. Weird, right?\")\n",
    "y = input(\"Name here:\")\n",
    "print(f\"Hello, {y}!\")"
   ]
  }
 ],
 "metadata": {
  "interpreter": {
   "hash": "592e34ed30538de5da2f610856ceb9594c87b25961d2a9d26a6e6f919ac3b3de"
  },
  "kernelspec": {
   "display_name": "Python 3.9.7 ('base')",
   "language": "python",
   "name": "python3"
  },
  "language_info": {
   "codemirror_mode": {
    "name": "ipython",
    "version": 3
   },
   "file_extension": ".py",
   "mimetype": "text/x-python",
   "name": "python",
   "nbconvert_exporter": "python",
   "pygments_lexer": "ipython3",
   "version": "3.9.7"
  },
  "orig_nbformat": 4
 },
 "nbformat": 4,
 "nbformat_minor": 2
}
